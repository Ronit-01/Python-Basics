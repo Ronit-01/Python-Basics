{
  "nbformat": 4,
  "nbformat_minor": 0,
  "metadata": {
    "colab": {
      "provenance": []
    },
    "kernelspec": {
      "name": "python3",
      "display_name": "Python 3"
    },
    "language_info": {
      "name": "python"
    }
  },
  "cells": [
    {
      "cell_type": "markdown",
      "source": [
        "# Python Basics"
      ],
      "metadata": {
        "id": "uZ_VkVOCR3Cu"
      }
    },
    {
      "cell_type": "markdown",
      "source": [
        "1. What is Python, and why is it popular?\n",
        "\n",
        "  - Python is a versatile programming language known for its simplicity and readability. It’s popular because it’s beginner-friendly, supports various applications like web development, data analysis, AI, and more, and has a vast community with extensive libraries. Its flexibility and efficiency make it ideal for both small projects and complex systems.\n",
        "\n",
        "2. What is an interpreter in Python?\n",
        "\n",
        "  - A Python interpreter is a program that executes Python code directly, line by line, converting it into machine-readable instructions. It enables running Python scripts without prior compilation, making debugging easier and facilitating Python’s interactive and dynamic nature.\n",
        "\n",
        "3. What are pre-defined keywords in Python?\n",
        "\n",
        "  - Pre-defined keywords in Python are reserved words that have specific meanings and purposes in the language. They cannot be used as variable names. Examples include `if`, `else`, `while`, `for`, and `def`. These keywords help define Python's syntax and structure.\n",
        "\n",
        "4. Can keywords be used as variable names?\n",
        "\n",
        "  - No, keywords cannot be used as variable names in Python. They are reserved for specific functions and syntax in the language, like `if`, `for`, or `while`, and using them as variable names would cause errors.\n",
        "\n",
        "5. What is mutability in Python?\n",
        "\n",
        "  - Mutability in Python refers to an object’s ability to change its value after creation. Mutable objects, like lists, can be modified, while immutable ones, like tuples, cannot be altered.\n",
        "\n",
        "6. Why are lists mutable, but tuples are immutable?\n",
        "\n",
        "  - Lists are mutable because they are designed to allow changes, like adding or removing elements. Tuples are immutable to provide consistency and safety, ensuring their values cannot be altered, which is useful for storing fixed data.\n",
        "\n",
        "7. What is the difference between “==” and “is” operators in Python?\n",
        "\n",
        "  - In Python, `==` checks if the values of two objects are equal, while `is` checks if two objects refer to the same memory location. So, `==` compares content, and `is` compares identity whether they are the same object.\n",
        "\n",
        "8. What are logical operators in Python?\n",
        "\n",
        "  - Logical operators in Python include `and`, `or`, and `not`, which are used to combine or negate boolean expressions.\n",
        "\n",
        "9. What is type casting in Python?\n",
        "\n",
        "  - Type casting in Python is the process of converting one data type into another. It can be done explicitly using functions like `int()`, `float()`, or `str()` to change variable types.\n",
        "\n",
        "10. What is the difference between implicit and explicit type casting?\n",
        "\n",
        "  - Implicit type casting, or type coercion, automatically converts data types when compatible (e.g., from int to float). Explicit type casting requires the programmer to manually convert types using functions like `int()`, `float()`, or `str()`.\n",
        "\n",
        "11. What is the purpose of conditional statements in Python?\n",
        "\n",
        "  - Conditional statements in Python, like `if`, `elif`, and `else`, are used to execute specific blocks of code based on whether certain conditions are true or false, allowing for decision-making and controlling program flow.\n",
        "\n",
        "12. How does the elif statement work?\n",
        "\n",
        "  - The `elif` (else if) statement in Python follows an `if` statement and checks another condition if the previous ones are false. If the `elif` condition is true, its corresponding block of code is executed.\n",
        "\n",
        "13. What is the difference between for and while loops?\n",
        "\n",
        "  - A `for` loop iterates over a sequence (like a list or range) for a specific number of times. A `while` loop continues executing as long as a condition is true, making it more suitable for unknown iteration counts.\n",
        "\n",
        "14. Describe a scenario where a while loop is more suitable than a for loop.\n",
        "\n",
        "  - A `while` loop is more suitable when the number of iterations is unknown. For example, a program that continues to prompt a user for valid input until they provide it, where the loop condition depends on user input.\n",
        "  "
      ],
      "metadata": {
        "id": "fBvi6b0dSMOK"
      }
    },
    {
      "cell_type": "markdown",
      "source": [
        "# Practical Questions"
      ],
      "metadata": {
        "id": "dN4qQ26XWvCi"
      }
    },
    {
      "cell_type": "code",
      "source": [
        "# 1. Write a Python program to print \"Hello, World!\"\n",
        "\n",
        "print(\"Hello, World!\")\n",
        "\n"
      ],
      "metadata": {
        "colab": {
          "base_uri": "https://localhost:8080/"
        },
        "id": "ETpxb_27X6A2",
        "outputId": "3488f7fb-946d-44bf-a095-dd3aa15da6d2"
      },
      "execution_count": 4,
      "outputs": [
        {
          "output_type": "stream",
          "name": "stdout",
          "text": [
            "Hello, World!\n"
          ]
        }
      ]
    },
    {
      "cell_type": "code",
      "source": [
        "# 2. Write a Python program that displays your name and age.\n",
        "\n",
        "name = \"Ronit Sen\"  # Replaced with my name\n",
        "age = 23            # Replaced with my age\n",
        "\n",
        "print(\"Name:\", name)\n",
        "print(\"Age:\", age)\n",
        "\n"
      ],
      "metadata": {
        "colab": {
          "base_uri": "https://localhost:8080/"
        },
        "id": "rAACSadQYZgh",
        "outputId": "fc3d7240-29bd-4e4e-e256-719a5013390d"
      },
      "execution_count": 5,
      "outputs": [
        {
          "output_type": "stream",
          "name": "stdout",
          "text": [
            "Name: Ronit Sen\n",
            "Age: 23\n"
          ]
        }
      ]
    },
    {
      "cell_type": "code",
      "source": [
        "# 3. Write code to print all the pre-defined keywords in Python using the keyword library.\n",
        "\n",
        "# Print all Python keywords\n",
        "print(keyword.kwlist)\n"
      ],
      "metadata": {
        "colab": {
          "base_uri": "https://localhost:8080/"
        },
        "id": "TDxzjSpXYzdP",
        "outputId": "9d2a5b56-2a9f-4c4f-89a5-5222cb784fbf"
      },
      "execution_count": 7,
      "outputs": [
        {
          "output_type": "stream",
          "name": "stdout",
          "text": [
            "['False', 'None', 'True', 'and', 'as', 'assert', 'async', 'await', 'break', 'class', 'continue', 'def', 'del', 'elif', 'else', 'except', 'finally', 'for', 'from', 'global', 'if', 'import', 'in', 'is', 'lambda', 'nonlocal', 'not', 'or', 'pass', 'raise', 'return', 'try', 'while', 'with', 'yield']\n"
          ]
        }
      ]
    },
    {
      "cell_type": "code",
      "source": [
        "# 4. Write a program that checks if a given word is a Python keyword.\n",
        "\n",
        "# Get input from the user\n",
        "word = input(\"Enter a word: \")\n",
        "\n",
        "# Check if the word is a Python keyword\n",
        "if keyword.iskeyword(word):\n",
        "    print(f'\"{word}\" is a Python keyword.')\n",
        "else:\n",
        "    print(f'\"{word}\" is not a Python keyword.')\n"
      ],
      "metadata": {
        "colab": {
          "base_uri": "https://localhost:8080/"
        },
        "id": "cF5WUjCEZAz1",
        "outputId": "c932dcde-b6c8-4e59-eaf8-de1a91863291"
      },
      "execution_count": 10,
      "outputs": [
        {
          "output_type": "stream",
          "name": "stdout",
          "text": [
            "Enter a word: None\n",
            "\"None\" is a Python keyword.\n"
          ]
        }
      ]
    },
    {
      "cell_type": "code",
      "source": [
        "# 5. Create a list and tuple in Python, and demonstrate how attempting to change an element works differently for each.\n",
        "\n",
        "# Create a list and a tuple\n",
        "my_list = [1, 2, 3, 4]\n",
        "my_tuple = (1, 2, 3, 4)\n",
        "\n",
        "# Attempt to change an element in the list\n",
        "print(\"Original list:\", my_list)\n",
        "my_list[1] = 5\n",
        "print(\"List after modification:\", my_list)\n",
        "\n",
        "# Attempt to change an element in the tuple\n",
        "print(\"Original tuple:\", my_tuple)\n",
        "try:\n",
        "    my_tuple[1] = 5\n",
        "except TypeError as e:\n",
        "    print(\"Error while modifying tuple:\", e)\n",
        "\n"
      ],
      "metadata": {
        "colab": {
          "base_uri": "https://localhost:8080/"
        },
        "id": "_1e7saM8ZWsw",
        "outputId": "97891040-a533-4033-9f0b-fef23ac0a09b"
      },
      "execution_count": 13,
      "outputs": [
        {
          "output_type": "stream",
          "name": "stdout",
          "text": [
            "Original list: [1, 2, 3, 4]\n",
            "List after modification: [1, 5, 3, 4]\n",
            "Original tuple: (1, 2, 3, 4)\n",
            "Error while modifying tuple: 'tuple' object does not support item assignment\n"
          ]
        }
      ]
    },
    {
      "cell_type": "code",
      "source": [
        "# 6. Write a function to demonstrate the behavior of mutable and immutable arguments.\n",
        "\n",
        "def demo_mutable_immutable(mutable_arg, immutable_arg):\n",
        "    print(\"Before modification:\")\n",
        "    print(\"Mutable argument:\", mutable_arg)\n",
        "    print(\"Immutable argument:\", immutable_arg)\n",
        "\n",
        "    # Modify the mutable argument (list)\n",
        "    mutable_arg.append(4)\n",
        "\n",
        "    # Try to modify the immutable argument (integer)\n",
        "    try:\n",
        "        immutable_arg += 1\n",
        "    except TypeError as e:\n",
        "        print(\"Error modifying immutable argument:\", e)\n",
        "\n",
        "    print(\"\\nAfter modification:\")\n",
        "    print(\"Mutable argument:\", mutable_arg)\n",
        "    print(\"Immutable argument:\", immutable_arg)\n",
        "\n",
        "\n",
        "# Test the function\n",
        "my_list = [1, 2, 3]\n",
        "my_int = 5\n",
        "\n",
        "demo_mutable_immutable(my_list, my_int)\n"
      ],
      "metadata": {
        "colab": {
          "base_uri": "https://localhost:8080/"
        },
        "id": "l0RUIrxjZ1dS",
        "outputId": "1b5ff5b3-622f-49f3-cb20-c985eb5f0921"
      },
      "execution_count": 14,
      "outputs": [
        {
          "output_type": "stream",
          "name": "stdout",
          "text": [
            "Before modification:\n",
            "Mutable argument: [1, 2, 3]\n",
            "Immutable argument: 5\n",
            "\n",
            "After modification:\n",
            "Mutable argument: [1, 2, 3, 4]\n",
            "Immutable argument: 6\n"
          ]
        }
      ]
    },
    {
      "cell_type": "code",
      "source": [
        "# 7. Write a function to demonstrate the behavior of mutable and immutable arguments.\n",
        "\n",
        "def demo_mutable_immutable(mutable_arg, immutable_arg):\n",
        "    print(\"Before modification:\")\n",
        "    print(\"Mutable argument:\", mutable_arg)\n",
        "    print(\"Immutable argument:\", immutable_arg)\n",
        "\n",
        "    # Modify the mutable argument (list)\n",
        "    mutable_arg.append(4)\n",
        "\n",
        "    # Try to modify the immutable argument (integer)\n",
        "    try:\n",
        "        immutable_arg += 1\n",
        "    except TypeError as e:\n",
        "        print(\"Error modifying immutable argument:\", e)\n",
        "\n",
        "    print(\"\\nAfter modification:\")\n",
        "    print(\"Mutable argument:\", mutable_arg)\n",
        "    print(\"Immutable argument:\", immutable_arg)\n",
        "\n",
        "\n",
        "# Test the function\n",
        "my_list = [1, 2, 3]\n",
        "my_int = 5\n",
        "\n",
        "demo_mutable_immutable(my_list, my_int)\n"
      ],
      "metadata": {
        "colab": {
          "base_uri": "https://localhost:8080/"
        },
        "id": "zoUC4t_ra4OU",
        "outputId": "df7031cf-e3b4-4e90-afe0-4dad25650a9a"
      },
      "execution_count": 15,
      "outputs": [
        {
          "output_type": "stream",
          "name": "stdout",
          "text": [
            "Before modification:\n",
            "Mutable argument: [1, 2, 3]\n",
            "Immutable argument: 5\n",
            "\n",
            "After modification:\n",
            "Mutable argument: [1, 2, 3, 4]\n",
            "Immutable argument: 6\n"
          ]
        }
      ]
    },
    {
      "cell_type": "code",
      "source": [
        "# 8. Write a program to demonstrate the use of logical operators.\n",
        "\n",
        "# Define two variables\n",
        "a = 10\n",
        "b = 5\n",
        "\n",
        "# Using 'and' logical operator\n",
        "if a > 5 and b < 10:\n",
        "    print(\"Both conditions are true (a > 5 and b < 10)\")\n",
        "\n",
        "# Using 'or' logical operator\n",
        "if a > 5 or b > 10:\n",
        "    print(\"At least one condition is true (a > 5 or b > 10)\")\n",
        "\n",
        "# Using 'not' logical operator\n",
        "if not a < 5:\n",
        "    print(\"The condition a < 5 is false, so 'not' makes it true\")\n",
        "\n",
        "# Combine all three logical operators\n",
        "if a > 5 and (b < 10 or a == 10):\n",
        "    print(\"Combination of 'and', 'or', and 'not' works!\")\n"
      ],
      "metadata": {
        "colab": {
          "base_uri": "https://localhost:8080/"
        },
        "id": "ZSwCDHT0bAmE",
        "outputId": "485a29f2-55e6-4f64-c85f-c4287a414caa"
      },
      "execution_count": 16,
      "outputs": [
        {
          "output_type": "stream",
          "name": "stdout",
          "text": [
            "Both conditions are true (a > 5 and b < 10)\n",
            "At least one condition is true (a > 5 or b > 10)\n",
            "The condition a < 5 is false, so 'not' makes it true\n",
            "Combination of 'and', 'or', and 'not' works!\n"
          ]
        }
      ]
    },
    {
      "cell_type": "code",
      "source": [
        "# 9. Write a Python program to convert user input from string to integer, float, and boolean types.\n",
        "\n",
        "# Get input from the user\n",
        "user_input = input(\"Enter a value: \")\n",
        "\n",
        "# Convert string input to integer\n",
        "try:\n",
        "    user_input_int = int(user_input)\n",
        "    print(\"Converted to integer:\", user_input_int)\n",
        "except ValueError:\n",
        "    print(\"Could not convert to integer.\")\n",
        "\n",
        "# Convert string input to float\n",
        "try:\n",
        "    user_input_float = float(user_input)\n",
        "    print(\"Converted to float:\", user_input_float)\n",
        "except ValueError:\n",
        "    print(\"Could not convert to float.\")\n",
        "\n",
        "# Convert string input to boolean\n",
        "if user_input.lower() == \"true\":\n",
        "    user_input_bool = True\n",
        "elif user_input.lower() == \"false\":\n",
        "    user_input_bool = False\n",
        "else:\n",
        "    user_input_bool = bool\n"
      ],
      "metadata": {
        "colab": {
          "base_uri": "https://localhost:8080/"
        },
        "id": "T5OXo5-pbjo-",
        "outputId": "febf6b60-8909-49c1-9083-5acbd8aa33ea"
      },
      "execution_count": 17,
      "outputs": [
        {
          "output_type": "stream",
          "name": "stdout",
          "text": [
            "Enter a value: 10\n",
            "Converted to integer: 10\n",
            "Converted to float: 10.0\n"
          ]
        }
      ]
    },
    {
      "cell_type": "code",
      "source": [
        "# 10. Write code to demonstrate type casting with list elements.\n",
        "\n",
        "# Create a list with different types of elements\n",
        "my_list = ['123', '456.78', 'True']\n",
        "\n",
        "# Convert elements to different types using type casting\n",
        "int_value = int(my_list[0])  # Convert string to integer\n",
        "float_value = float(my_list[1])  # Convert string to float\n",
        "bool_value = bool(my_list[2])  # Convert string to boolean\n",
        "\n",
        "# Display the results\n",
        "print(\"Original list:\", my_list)\n",
        "print(\"Converted to integer:\", int_value)\n",
        "print(\"Converted to float:\", float_value)\n",
        "print(\"Converted to boolean:\", bool_value)\n",
        "\n",
        "# Example of type casting within a new list\n",
        "casted_list = [int(my_list[0]), float(my_list[1]), bool(my_list[2])]\n",
        "print(\"New list with type casted elements:\", casted_list)\n"
      ],
      "metadata": {
        "colab": {
          "base_uri": "https://localhost:8080/"
        },
        "id": "dYvbGIlXb0xX",
        "outputId": "24c793ad-6f94-4721-af04-28c481871b6a"
      },
      "execution_count": 19,
      "outputs": [
        {
          "output_type": "stream",
          "name": "stdout",
          "text": [
            "Original list: ['123', '456.78', 'True']\n",
            "Converted to integer: 123\n",
            "Converted to float: 456.78\n",
            "Converted to boolean: True\n",
            "New list with type casted elements: [123, 456.78, True]\n"
          ]
        }
      ]
    },
    {
      "cell_type": "code",
      "source": [
        "# 11. Write a program that checks if a number is positive, negative, or zero.\n",
        "\n",
        "# Take user input\n",
        "number = float(input(\"Enter a number: \"))\n",
        "\n",
        "# Check if the number is positive, negative, or zero\n",
        "if number > 0:\n",
        "    print(\"The number is positive.\")\n",
        "elif number < 0:\n",
        "    print(\"The number is negative.\")\n",
        "else:\n",
        "    print(\"The number is zero.\")\n"
      ],
      "metadata": {
        "colab": {
          "base_uri": "https://localhost:8080/"
        },
        "id": "yvF6DyWWcTYw",
        "outputId": "a7a9a5af-cc65-47c7-80eb-a64a6c58c559"
      },
      "execution_count": 23,
      "outputs": [
        {
          "output_type": "stream",
          "name": "stdout",
          "text": [
            "Enter a number: 0\n",
            "The number is zero.\n"
          ]
        }
      ]
    },
    {
      "cell_type": "code",
      "source": [
        "# 12. Write a for loop to print numbers from 1 to 10.\n",
        "\n",
        "# Using a for loop to print numbers from 1 to 10\n",
        "for i in range(1, 11):\n",
        "    print(i)\n"
      ],
      "metadata": {
        "colab": {
          "base_uri": "https://localhost:8080/"
        },
        "id": "tGpiVEIzcwHI",
        "outputId": "cc84af33-e8a2-442b-cb5b-81faf1ade787"
      },
      "execution_count": 24,
      "outputs": [
        {
          "output_type": "stream",
          "name": "stdout",
          "text": [
            "1\n",
            "2\n",
            "3\n",
            "4\n",
            "5\n",
            "6\n",
            "7\n",
            "8\n",
            "9\n",
            "10\n"
          ]
        }
      ]
    },
    {
      "cell_type": "code",
      "source": [
        "# 13. Write a Python program to find the sum of all even numbers between 1 and 50.\n",
        "\n",
        "# Initialize sum variable\n",
        "sum_even = 0\n",
        "\n",
        "# Loop through numbers from 1 to 50\n",
        "for num in range(1, 51):\n",
        "    if num % 2 == 0:\n",
        "        sum_even += num\n",
        "\n",
        "# Print the sum of even numbers\n",
        "print(\"Sum of all even numbers between 1 and 50:\", sum_even)\n",
        "\n"
      ],
      "metadata": {
        "colab": {
          "base_uri": "https://localhost:8080/"
        },
        "id": "CFYC1NLtdLlv",
        "outputId": "4790f4ec-8b9f-4f6a-a15b-bfe43fd9d5b7"
      },
      "execution_count": 29,
      "outputs": [
        {
          "output_type": "stream",
          "name": "stdout",
          "text": [
            "Sum of all even numbers between 1 and 50: 650\n"
          ]
        }
      ]
    },
    {
      "cell_type": "code",
      "source": [
        "# 14. Write a program to reverse a string using a while loop.\n",
        "\n",
        "# Get user input\n",
        "input_string = input(\"Enter a string: \")\n",
        "\n",
        "# Initialize an empty string for the reversed result\n",
        "reversed_string = \"\"\n",
        "\n",
        "# Initialize a variable to track the position in the string\n",
        "index = len(input_string) - 1\n",
        "\n",
        "# Use a while loop to reverse the string\n",
        "while index >= 0:\n",
        "    reversed_string += input_string[index]\n",
        "    index -= 1\n",
        "\n",
        "# Print the reversed string\n",
        "print(\"Reversed string:\", reversed_string)\n"
      ],
      "metadata": {
        "colab": {
          "base_uri": "https://localhost:8080/"
        },
        "id": "F20AodiBde1C",
        "outputId": "8dd0b392-2d59-450f-82b2-74ed9a8beb5a"
      },
      "execution_count": 31,
      "outputs": [
        {
          "output_type": "stream",
          "name": "stdout",
          "text": [
            "Enter a string: Ronit\n",
            "Reversed string: tinoR\n"
          ]
        }
      ]
    },
    {
      "cell_type": "code",
      "source": [
        "# 15. Write a Python program to calculate the factorial of a number provided by the user using a while loop.\n",
        "\n",
        "# Get user input\n",
        "number = int(input(\"Enter a number to find its factorial: \"))\n",
        "\n",
        "# Initialize variables\n",
        "factorial = 1\n",
        "i = 1\n",
        "\n",
        "# Use a while loop to calculate the factorial\n",
        "while i <= number:\n",
        "    factorial *= i\n",
        "    i += 1\n",
        "\n",
        "# Print the result\n",
        "print(f\"The factorial of {number} is {factorial}\")\n",
        "\n"
      ],
      "metadata": {
        "colab": {
          "base_uri": "https://localhost:8080/"
        },
        "id": "5nscRJ-Td9Fx",
        "outputId": "b6d6a580-7c98-4556-f875-912fa13a7875"
      },
      "execution_count": 32,
      "outputs": [
        {
          "output_type": "stream",
          "name": "stdout",
          "text": [
            "Enter a number to find its factorial: 4\n",
            "The factorial of 4 is 24\n"
          ]
        }
      ]
    }
  ]
}